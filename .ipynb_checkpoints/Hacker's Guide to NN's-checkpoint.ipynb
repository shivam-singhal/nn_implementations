{
 "cells": [
  {
   "cell_type": "markdown",
   "metadata": {},
   "source": [
    "# Chapter 1: Real-valued Circuits"
   ]
  },
  {
   "cell_type": "markdown",
   "metadata": {},
   "source": [
    "- Real values (as opposed to boolean vals) flow along edges\n",
    "- AND, OR, NOT replaced by binary gates (*, +, max) or unary gates (exp)"
   ]
  },
  {
   "cell_type": "code",
   "execution_count": 1,
   "metadata": {},
   "outputs": [
    {
     "data": {
      "text/plain": [
       "-6"
      ]
     },
     "execution_count": 1,
     "metadata": {},
     "output_type": "execute_result"
    }
   ],
   "source": [
    "# Base case circuit\n",
    "# inputs: x, y\n",
    "# outputs: x * y\n",
    "def forwardMultiplyGate(x, y):\n",
    "    return x * y\n",
    "forwardMultiplyGate(-2, 3)"
   ]
  },
  {
   "cell_type": "markdown",
   "metadata": {},
   "source": [
    "The core question then becomes: How should one tweak the input slightly to increase the output?"
   ]
  },
  {
   "cell_type": "markdown",
   "metadata": {},
   "source": [
    "### Random Local Search"
   ]
  },
  {
   "cell_type": "markdown",
   "metadata": {},
   "source": [
    "General idea: randomly select x, y values and then compare with previous values\n",
    "Problem: this doesn't \"tweak\" x, y; all it does is randomly get a good value\n",
    "\n",
    "Refined general idea: start at some values for x, y. Then based on some tweaking factor, push x, y up/down based on the random scalar times tweaking factor"
   ]
  },
  {
   "cell_type": "code",
   "execution_count": 49,
   "metadata": {},
   "outputs": [
    {
     "name": "stdout",
     "output_type": "stream",
     "text": [
      "best x: -1.9904144141862778, best y: 2.990801697770975, best out: -5.95293480921614\n"
     ]
    }
   ],
   "source": [
    "import random\n",
    "\n",
    "x, y = -2, 3\n",
    "\n",
    "best_x = x\n",
    "best_y = y\n",
    "best_val = float('-inf')\n",
    "tweak = 0.01\n",
    "\n",
    "for i in range(1000):\n",
    "    x_prime = x + tweak * (random.random() * 2 - 1) # to put tweaking scalar in range [-1, 1)\n",
    "    y_prime = y + tweak * (random.random() * 2 - 1)\n",
    "    val_prime = forwardMultiplyGate(x_prime, y_prime)\n",
    "    if (val_prime > best_val):\n",
    "        best_x = x_prime\n",
    "        best_y = y_prime\n",
    "        best_val = val_prime\n",
    "        # not setting x and y since we don't want some sort of numerical gradient yet, just completely random\n",
    "print(\"best x: %s, best y: %s, best out: %s\" % (best_x, best_y, best_val))"
   ]
  },
  {
   "cell_type": "markdown",
   "metadata": {},
   "source": [
    "### Numerical Gradient"
   ]
  },
  {
   "cell_type": "markdown",
   "metadata": {},
   "source": []
  }
 ],
 "metadata": {
  "kernelspec": {
   "display_name": "Python 3",
   "language": "python",
   "name": "python3"
  },
  "language_info": {
   "codemirror_mode": {
    "name": "ipython",
    "version": 3
   },
   "file_extension": ".py",
   "mimetype": "text/x-python",
   "name": "python",
   "nbconvert_exporter": "python",
   "pygments_lexer": "ipython3",
   "version": "3.6.3"
  }
 },
 "nbformat": 4,
 "nbformat_minor": 2
}
